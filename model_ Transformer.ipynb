{
 "cells": [
  {
   "cell_type": "code",
   "execution_count": 11,
   "metadata": {},
   "outputs": [
    {
     "data": {
      "text/plain": [
       "(             event_name            tweet_id              image_id  \\\n",
       " 0  california_wildfires  917791291823591425  917791291823591425_0   \n",
       " 1  california_wildfires  917791291823591425  917791291823591425_1   \n",
       " 2  california_wildfires  917793137925459968  917793137925459968_0   \n",
       " 3  california_wildfires  917793137925459968  917793137925459968_1   \n",
       " 4  california_wildfires  917793137925459968  917793137925459968_2   \n",
       " \n",
       "                                           tweet_text  \\\n",
       " 0  RT @Cal_OES: PLS SHARE: Weâ€™re capturing wild...   \n",
       " 1  RT @Cal_OES: PLS SHARE: Weâ€™re capturing wild...   \n",
       " 2  RT @KAKEnews: California wildfires destroy mor...   \n",
       " 3  RT @KAKEnews: California wildfires destroy mor...   \n",
       " 4  RT @KAKEnews: California wildfires destroy mor...   \n",
       " \n",
       "                                                image            label  \\\n",
       " 0  data_image/california_wildfires/10_10_2017/917...      informative   \n",
       " 1  data_image/california_wildfires/10_10_2017/917...  not_informative   \n",
       " 2  data_image/california_wildfires/10_10_2017/917...      informative   \n",
       " 3  data_image/california_wildfires/10_10_2017/917...      informative   \n",
       " 4  data_image/california_wildfires/10_10_2017/917...      informative   \n",
       " \n",
       "     label_text      label_image label_text_image  \n",
       " 0  informative      informative         Positive  \n",
       " 1  informative  not_informative         Negative  \n",
       " 2  informative      informative         Positive  \n",
       " 3  informative      informative         Positive  \n",
       " 4  informative      informative         Positive  ,\n",
       "              event_name            tweet_id              image_id  \\\n",
       " 0  iraq_iran_earthquake  931465546129989632  931465546129989632_0   \n",
       " 1      hurricane_harvey  905064623199719425  905064623199719425_0   \n",
       " 2       hurricane_maria  922857566220283904  922857566220283904_0   \n",
       " 3        hurricane_irma  909767231411769344  909767231411769344_0   \n",
       " 4  california_wildfires  920571592131915777  920571592131915777_0   \n",
       " \n",
       "                                           tweet_text  \\\n",
       " 0  #Iran #earthquake damage put at over 5bn pound...   \n",
       " 1  We've lost track of how many houses/families @...   \n",
       " 2  The gym above subway got destroyed. The cement...   \n",
       " 3  Famous Captive Orca Fends For Herself In Flori...   \n",
       " 4  Californiaâ€™s Sausalito Fire In Marin Capture...   \n",
       " \n",
       "                                                image            label  \\\n",
       " 0  data_image/iraq_iran_earthquake/17_11_2017/931...  not_informative   \n",
       " 1  data_image/hurricane_harvey/5_9_2017/905064623...      informative   \n",
       " 2  data_image/hurricane_maria/24_10_2017/92285756...      informative   \n",
       " 3  data_image/hurricane_irma/18_9_2017/9097672314...      informative   \n",
       " 4  data_image/california_wildfires/18_10_2017/920...      informative   \n",
       " \n",
       "     label_text      label_image label_text_image  \n",
       " 0  informative  not_informative         Negative  \n",
       " 1  informative      informative         Positive  \n",
       " 2  informative      informative         Positive  \n",
       " 3  informative  not_informative         Negative  \n",
       " 4  informative      informative         Positive  ,\n",
       "          event_name            tweet_id              image_id  \\\n",
       " 0   srilanka_floods  878185882431389696  878185882431389696_0   \n",
       " 1  hurricane_harvey  906258753707790336  906258753707790336_0   \n",
       " 2   hurricane_maria  910542719864397824  910542719864397824_0   \n",
       " 3  hurricane_harvey  906219963152785408  906219963152785408_0   \n",
       " 4   hurricane_maria  913009824195104768  913009824195104768_0   \n",
       " \n",
       "                                           tweet_text  \\\n",
       " 0  Cristofer CLEMENTE MORA now in 2nd at aguille ...   \n",
       " 1  RT @THS_College: On our way to Warrior Restora...   \n",
       " 2  Hurricane Maria batters Puerto Rico as a Cat 4...   \n",
       " 3  ZZ Top Donating ‘La Grange’ Download Sales To ...   \n",
       " 4  8am #Maria update: holding steady as a strong ...   \n",
       " \n",
       "                                                image            label  \\\n",
       " 0  data_image/srilanka_floods/23_6_2017/878185882...  not_informative   \n",
       " 1  data_image/hurricane_harvey/8_9_2017/906258753...  not_informative   \n",
       " 2  data_image/hurricane_maria/20_9_2017/910542719...      informative   \n",
       " 3  data_image/hurricane_harvey/8_9_2017/906219963...      informative   \n",
       " 4  data_image/hurricane_maria/27_9_2017/913009824...      informative   \n",
       " \n",
       "         label_text      label_image label_text_image  \n",
       " 0  not_informative  not_informative         Positive  \n",
       " 1      informative  not_informative         Negative  \n",
       " 2      informative      informative         Positive  \n",
       " 3      informative  not_informative         Negative  \n",
       " 4      informative      informative         Positive  )"
      ]
     },
     "execution_count": 11,
     "metadata": {},
     "output_type": "execute_result"
    }
   ],
   "source": [
    "import pandas as pd\n",
    "\n",
    "# Load the datasets\n",
    "train_file_path = 'crisismmd_datasplit_all/crisismmd_datasplit_all/task_informative_text_img_train.tsv'\n",
    "dev_file_path = 'crisismmd_datasplit_all/crisismmd_datasplit_all/task_informative_text_img_dev.tsv'\n",
    "test_file_path = 'crisismmd_datasplit_all/crisismmd_datasplit_all/task_informative_text_img_test.tsv'\n",
    "\n",
    "# Load TSV files into DataFrames\n",
    "train_data = pd.read_csv(train_file_path, sep='\\t')\n",
    "dev_data = pd.read_csv(dev_file_path, sep='\\t')\n",
    "test_data = pd.read_csv(test_file_path, sep='\\t')\n",
    "\n",
    "# Display the first few rows of each dataset\n",
    "train_data.head(), dev_data.head(), test_data.head()\n"
   ]
  },
  {
   "cell_type": "code",
   "execution_count": 12,
   "metadata": {},
   "outputs": [
    {
     "name": "stderr",
     "output_type": "stream",
     "text": [
      "Map: 100%|██████████| 13608/13608 [00:04<00:00, 3357.62 examples/s]\n",
      "Map: 100%|██████████| 2237/2237 [00:00<00:00, 4026.68 examples/s]\n",
      "Some weights of BertForSequenceClassification were not initialized from the model checkpoint at bert-base-uncased and are newly initialized: ['classifier.bias', 'classifier.weight']\n",
      "You should probably TRAIN this model on a down-stream task to be able to use it for predictions and inference.\n",
      "c:\\Users\\Aman\\AppData\\Local\\Programs\\Python\\Python312\\Lib\\site-packages\\transformers\\training_args.py:1568: FutureWarning: `evaluation_strategy` is deprecated and will be removed in version 4.46 of 🤗 Transformers. Use `eval_strategy` instead\n",
      "  warnings.warn(\n",
      "comet_ml is installed but the Comet API Key is not configured. Please set the `COMET_API_KEY` environment variable to enable Comet logging. Check out the documentation for other ways of configuring it: https://www.comet.com/docs/v2/guides/experiment-management/configure-sdk/#set-the-api-key\n",
      "C:\\Users\\Aman\\AppData\\Local\\Temp\\ipykernel_16864\\496144117.py:71: FutureWarning: `tokenizer` is deprecated and will be removed in version 5.0.0 for `Trainer.__init__`. Use `processing_class` instead.\n",
      "  trainer = Trainer(\n",
      "                                                 \n",
      "  1%|          | 52/4255 [1:36:36<14:23,  4.87it/s]"
     ]
    },
    {
     "name": "stdout",
     "output_type": "stream",
     "text": [
      "{'loss': 0.5629, 'grad_norm': 6.1714348793029785, 'learning_rate': 1.764982373678026e-05, 'epoch': 0.59}\n"
     ]
    },
    {
     "name": "stderr",
     "output_type": "stream",
     "text": [
      "\n",
      "\u001b[A\n",
      "\u001b[A\n",
      "\u001b[A\n",
      "\u001b[A\n",
      "\u001b[A\n",
      "\u001b[A\n",
      "\u001b[A\n",
      "\u001b[A\n",
      "\u001b[A\n",
      "\u001b[A\n",
      "\u001b[A\n",
      "\u001b[A\n",
      "\u001b[A\n",
      "\u001b[A\n",
      "\u001b[A\n",
      "\u001b[A\n",
      "\u001b[A\n",
      "\u001b[A\n",
      "\u001b[A\n",
      "\u001b[A\n",
      "\u001b[A\n",
      "\u001b[A\n",
      "\u001b[A\n",
      "\u001b[A\n",
      "\u001b[A\n",
      "\u001b[A\n",
      "\u001b[A\n",
      "\u001b[A\n",
      "\u001b[A\n",
      "\u001b[A\n",
      "\u001b[A\n",
      "\u001b[A\n",
      "\u001b[A\n",
      "\u001b[A\n",
      "\u001b[A\n",
      "\u001b[A\n",
      "\u001b[A\n",
      "\u001b[A\n",
      "\u001b[A\n",
      "\u001b[A\n",
      "\u001b[A\n",
      "\u001b[A\n",
      "\u001b[A\n",
      "\u001b[A\n",
      "\u001b[A\n",
      "\u001b[A\n",
      "\u001b[A\n",
      "\u001b[A\n",
      "\u001b[A\n",
      "\u001b[A\n",
      "\u001b[A\n",
      "\u001b[A\n",
      "\u001b[A\n",
      "\u001b[A\n",
      "\u001b[A\n",
      "\u001b[A\n",
      "\u001b[A\n",
      "\u001b[A\n",
      "\u001b[A\n",
      "\n",
      "                                                   \n",
      "\u001b[A                                               \n",
      "  1%|          | 52/4255 [1:37:50<14:23,  4.87it/s]\n",
      "\u001b[A"
     ]
    },
    {
     "name": "stdout",
     "output_type": "stream",
     "text": [
      "{'eval_loss': 0.5501017570495605, 'eval_accuracy': 0.7344658024139472, 'eval_runtime': 7.4881, 'eval_samples_per_second': 298.739, 'eval_steps_per_second': 18.696, 'epoch': 1.0}\n"
     ]
    },
    {
     "name": "stderr",
     "output_type": "stream",
     "text": [
      "                                                   \n",
      "  1%|          | 52/4255 [1:38:20<14:23,  4.87it/s]"
     ]
    },
    {
     "name": "stdout",
     "output_type": "stream",
     "text": [
      "{'loss': 0.4875, 'grad_norm': 4.575185298919678, 'learning_rate': 1.529964747356052e-05, 'epoch': 1.18}\n"
     ]
    },
    {
     "name": "stderr",
     "output_type": "stream",
     "text": [
      "                                                   \n",
      "  1%|          | 52/4255 [1:39:59<14:23,  4.87it/s]"
     ]
    },
    {
     "name": "stdout",
     "output_type": "stream",
     "text": [
      "{'loss': 0.4525, 'grad_norm': 5.5260138511657715, 'learning_rate': 1.2949471210340776e-05, 'epoch': 1.76}\n"
     ]
    },
    {
     "name": "stderr",
     "output_type": "stream",
     "text": [
      "\n",
      "\u001b[A\n",
      "\u001b[A\n",
      "\u001b[A\n",
      "\u001b[A\n",
      "\u001b[A\n",
      "\u001b[A\n",
      "\u001b[A\n",
      "\u001b[A\n",
      "\u001b[A\n",
      "\u001b[A\n",
      "\u001b[A\n",
      "\u001b[A\n",
      "\u001b[A\n",
      "\u001b[A\n",
      "\u001b[A\n",
      "\u001b[A\n",
      "\u001b[A\n",
      "\u001b[A\n",
      "\u001b[A\n",
      "\u001b[A\n",
      "\u001b[A\n",
      "\u001b[A\n",
      "\u001b[A\n",
      "\u001b[A\n",
      "\u001b[A\n",
      "\u001b[A\n",
      "\u001b[A\n",
      "\u001b[A\n",
      "\u001b[A\n",
      "\u001b[A\n",
      "\u001b[A\n",
      "\u001b[A\n",
      "\u001b[A\n",
      "\u001b[A\n",
      "\u001b[A\n",
      "\u001b[A\n",
      "\u001b[A\n",
      "\u001b[A\n",
      "\u001b[A\n",
      "\u001b[A\n",
      "\u001b[A\n",
      "\u001b[A\n",
      "\u001b[A\n",
      "\u001b[A\n",
      "\u001b[A\n",
      "\u001b[A\n",
      "\u001b[A\n",
      "\u001b[A\n",
      "\u001b[A\n",
      "\u001b[A\n",
      "\u001b[A\n",
      "\u001b[A\n",
      "\u001b[A\n",
      "\u001b[A\n",
      "\u001b[A\n",
      "\n",
      "                                                   \n",
      "\u001b[A                                                \n",
      "  1%|          | 52/4255 [1:40:46<14:23,  4.87it/s]\n",
      "\u001b[A"
     ]
    },
    {
     "name": "stdout",
     "output_type": "stream",
     "text": [
      "{'eval_loss': 0.5691090226173401, 'eval_accuracy': 0.731783638801967, 'eval_runtime': 7.0607, 'eval_samples_per_second': 316.822, 'eval_steps_per_second': 19.828, 'epoch': 2.0}\n"
     ]
    },
    {
     "name": "stderr",
     "output_type": "stream",
     "text": [
      "                                                   \n",
      "  1%|          | 52/4255 [1:41:48<14:23,  4.87it/s]"
     ]
    },
    {
     "name": "stdout",
     "output_type": "stream",
     "text": [
      "{'loss': 0.3655, 'grad_norm': 9.252835273742676, 'learning_rate': 1.0599294947121034e-05, 'epoch': 2.35}\n"
     ]
    },
    {
     "name": "stderr",
     "output_type": "stream",
     "text": [
      "                                                   \n",
      "  1%|          | 52/4255 [1:43:30<14:23,  4.87it/s]\n"
     ]
    },
    {
     "name": "stdout",
     "output_type": "stream",
     "text": [
      "{'loss': 0.3229, 'grad_norm': 14.495622634887695, 'learning_rate': 8.249118683901294e-06, 'epoch': 2.94}\n"
     ]
    },
    {
     "name": "stderr",
     "output_type": "stream",
     "text": [
      " 59%|█████▉    | 2501/4255 [08:25<06:04,  4.81it/s]\u001b[A\n",
      "\u001b[A\n",
      "\u001b[A\n",
      "\u001b[A\n",
      "\u001b[A\n",
      "\u001b[A\n",
      "\u001b[A\n",
      "\u001b[A\n",
      "\u001b[A\n",
      "\u001b[A\n",
      "\u001b[A\n",
      "\u001b[A\n",
      "\u001b[A\n",
      "\u001b[A\n",
      "\u001b[A\n",
      "\u001b[A\n",
      "\u001b[A\n",
      "\u001b[A\n",
      "\u001b[A\n",
      "\u001b[A\n",
      "\u001b[A\n",
      "\u001b[A\n",
      "\u001b[A\n",
      "\u001b[A\n",
      "\u001b[A\n",
      "\u001b[A\n",
      "\u001b[A\n",
      "\u001b[A\n",
      "\u001b[A\n",
      "\u001b[A\n",
      "\u001b[A\n",
      "\u001b[A\n",
      "\u001b[A\n",
      "\u001b[A\n",
      "\u001b[A\n",
      "\u001b[A\n",
      "\u001b[A\n",
      "\u001b[A\n",
      "\u001b[A\n",
      "\u001b[A\n",
      "\u001b[A\n",
      "\u001b[A\n",
      "\u001b[A\n",
      "\u001b[A\n",
      "\u001b[A\n",
      "\u001b[A\n",
      "\u001b[A\n",
      "\u001b[A\n",
      "\u001b[A\n",
      "\u001b[A\n",
      "\u001b[A\n",
      "\u001b[A\n",
      "\u001b[A\n",
      "\u001b[A\n",
      "\u001b[A\n",
      "\u001b[A\n",
      "\n",
      "                                                   \n",
      "\u001b[A                                                \n",
      "  1%|          | 52/4255 [1:43:47<14:23,  4.87it/s]\n",
      "\u001b[A"
     ]
    },
    {
     "name": "stdout",
     "output_type": "stream",
     "text": [
      "{'eval_loss': 0.6927586197853088, 'eval_accuracy': 0.72954850245865, 'eval_runtime': 6.9738, 'eval_samples_per_second': 320.774, 'eval_steps_per_second': 20.075, 'epoch': 3.0}\n"
     ]
    },
    {
     "name": "stderr",
     "output_type": "stream",
     "text": [
      "                                                   \n",
      "  1%|          | 52/4255 [1:45:21<14:23,  4.87it/s]"
     ]
    },
    {
     "name": "stdout",
     "output_type": "stream",
     "text": [
      "{'loss': 0.2397, 'grad_norm': 20.73276710510254, 'learning_rate': 5.898942420681551e-06, 'epoch': 3.53}\n"
     ]
    },
    {
     "name": "stderr",
     "output_type": "stream",
     "text": [
      "\n",
      "\u001b[A\n",
      "\u001b[A\n",
      "\u001b[A\n",
      "\u001b[A\n",
      "\u001b[A\n",
      "\u001b[A\n",
      "\u001b[A\n",
      "\u001b[A\n",
      "\u001b[A\n",
      "\u001b[A\n",
      "\u001b[A\n",
      "\u001b[A\n",
      "\u001b[A\n",
      "\u001b[A\n",
      "\u001b[A\n",
      "\u001b[A\n",
      "\u001b[A\n",
      "\u001b[A\n",
      "\u001b[A\n",
      "\u001b[A\n",
      "\u001b[A\n",
      "\u001b[A\n",
      "\u001b[A\n",
      "\u001b[A\n",
      "\u001b[A\n",
      "\u001b[A\n",
      "\u001b[A\n",
      "\u001b[A\n",
      "\u001b[A\n",
      "\u001b[A\n",
      "\u001b[A\n",
      "\u001b[A\n",
      "\u001b[A\n",
      "\u001b[A\n",
      "\u001b[A\n",
      "\u001b[A\n",
      "\u001b[A\n",
      "\u001b[A\n",
      "\u001b[A\n",
      "\u001b[A\n",
      "\u001b[A\n",
      "\u001b[A\n",
      "\u001b[A\n",
      "\u001b[A\n",
      "\u001b[A\n",
      "\u001b[A\n",
      "\u001b[A\n",
      "\u001b[A\n",
      "\u001b[A\n",
      "\u001b[A\n",
      "\u001b[A\n",
      "\u001b[A\n",
      "\u001b[A\n",
      "\u001b[A\n",
      "\u001b[A\n",
      "\u001b[A\n",
      "\n",
      "                                                   \n",
      "\u001b[A                                                \n",
      "  1%|          | 52/4255 [1:46:51<14:23,  4.87it/s]\n",
      "\u001b[A"
     ]
    },
    {
     "name": "stdout",
     "output_type": "stream",
     "text": [
      "{'eval_loss': 0.7515349388122559, 'eval_accuracy': 0.7228430934286991, 'eval_runtime': 7.0304, 'eval_samples_per_second': 318.19, 'eval_steps_per_second': 19.914, 'epoch': 4.0}\n"
     ]
    },
    {
     "name": "stderr",
     "output_type": "stream",
     "text": [
      "                                                   \n",
      "  1%|          | 52/4255 [1:47:12<14:23,  4.87it/s]\n"
     ]
    },
    {
     "name": "stdout",
     "output_type": "stream",
     "text": [
      "{'loss': 0.2273, 'grad_norm': 11.914289474487305, 'learning_rate': 3.5487661574618097e-06, 'epoch': 4.11}\n"
     ]
    },
    {
     "name": "stderr",
     "output_type": "stream",
     "text": [
      "                                                   \u001b[A\n",
      "  1%|          | 52/4255 [1:48:54<14:23,  4.87it/s]"
     ]
    },
    {
     "name": "stdout",
     "output_type": "stream",
     "text": [
      "{'loss': 0.1866, 'grad_norm': 17.09221076965332, 'learning_rate': 1.1985898942420683e-06, 'epoch': 4.7}\n"
     ]
    },
    {
     "name": "stderr",
     "output_type": "stream",
     "text": [
      "\n",
      "\u001b[A\n",
      "\u001b[A\n",
      "\u001b[A\n",
      "\u001b[A\n",
      "\u001b[A\n",
      "\u001b[A\n",
      "\u001b[A\n",
      "\u001b[A\n",
      "\u001b[A\n",
      "\u001b[A\n",
      "\u001b[A\n",
      "\u001b[A\n",
      "\u001b[A\n",
      "\u001b[A\n",
      "\u001b[A\n",
      "\u001b[A\n",
      "\u001b[A\n",
      "\u001b[A\n",
      "\u001b[A\n",
      "\u001b[A\n",
      "\u001b[A\n",
      "\u001b[A\n",
      "\u001b[A\n",
      "\u001b[A\n",
      "\u001b[A\n",
      "\u001b[A\n",
      "\u001b[A\n",
      "\u001b[A\n",
      "\u001b[A\n",
      "\u001b[A\n",
      "\u001b[A\n",
      "\u001b[A\n",
      "\u001b[A\n",
      "\u001b[A\n",
      "\u001b[A\n",
      "\u001b[A\n",
      "\u001b[A\n",
      "\u001b[A\n",
      "\u001b[A\n",
      "\u001b[A\n",
      "\u001b[A\n",
      "\u001b[A\n",
      "\u001b[A\n",
      "\u001b[A\n",
      "\u001b[A\n",
      "\u001b[A\n",
      "\u001b[A\n",
      "\u001b[A\n",
      "\u001b[A\n",
      "\u001b[A\n",
      "\u001b[A\n",
      "\u001b[A\n",
      "\n",
      "                                                   \n",
      "\u001b[A                                                \n",
      "  1%|          | 52/4255 [1:49:53<14:23,  4.87it/s]\n",
      "\u001b[A"
     ]
    },
    {
     "name": "stdout",
     "output_type": "stream",
     "text": [
      "{'eval_loss': 0.9882933497428894, 'eval_accuracy': 0.7246312025033527, 'eval_runtime': 6.7425, 'eval_samples_per_second': 331.776, 'eval_steps_per_second': 20.764, 'epoch': 5.0}\n"
     ]
    },
    {
     "name": "stderr",
     "output_type": "stream",
     "text": [
      "                                                   \n",
      "100%|██████████| 4255/4255 [14:51<00:00,  4.78it/s]\n"
     ]
    },
    {
     "name": "stdout",
     "output_type": "stream",
     "text": [
      "{'train_runtime': 891.0424, 'train_samples_per_second': 76.36, 'train_steps_per_second': 4.775, 'train_loss': 0.34633361959849623, 'epoch': 5.0}\n"
     ]
    },
    {
     "name": "stderr",
     "output_type": "stream",
     "text": [
      "100%|██████████| 140/140 [00:06<00:00, 21.13it/s]\n"
     ]
    },
    {
     "data": {
      "image/png": "[encoded data removed]",
      "text/plain": [
       "<Figure size 1000x500 with 1 Axes>"
      ]
     },
     "metadata": {},
     "output_type": "display_data"
    },
    {
     "name": "stderr",
     "output_type": "stream",
     "text": [
      "100%|██████████| 140/140 [00:06<00:00, 20.66it/s]\n"
     ]
    },
    {
     "data": {
      "image/png": "[encoded data removed]",
      "text/plain": [
       "<Figure size 800x600 with 2 Axes>"
      ]
     },
     "metadata": {},
     "output_type": "display_data"
    },
    {
     "name": "stdout",
     "output_type": "stream",
     "text": [
      "Classification Report:\n",
      "                 precision    recall  f1-score   support\n",
      "\n",
      "    informative       0.66      0.58      0.62       830\n",
      "not_informative       0.77      0.83      0.80      1407\n",
      "\n",
      "       accuracy                           0.73      2237\n",
      "      macro avg       0.72      0.70      0.71      2237\n",
      "   weighted avg       0.73      0.73      0.73      2237\n",
      "\n"
     ]
    }
   ],
   "source": [
    "import pandas as pd\n",
    "import torch\n",
    "from sklearn.metrics import accuracy_score, classification_report, confusion_matrix\n",
    "import matplotlib.pyplot as plt\n",
    "import seaborn as sns\n",
    "from transformers import BertTokenizer, BertForSequenceClassification, Trainer, TrainingArguments\n",
    "from transformers import DataCollatorWithPadding\n",
    "from datasets import Dataset\n",
    "\n",
    "# Load the data\n",
    "train_file_path = 'crisismmd_datasplit_all/crisismmd_datasplit_all/task_informative_text_img_train.tsv'\n",
    "dev_file_path = 'crisismmd_datasplit_all/crisismmd_datasplit_all/task_informative_text_img_dev.tsv'\n",
    "\n",
    "train_data = pd.read_csv(train_file_path, sep='\\t')\n",
    "dev_data = pd.read_csv(dev_file_path, sep='\\t')\n",
    "\n",
    "# Preprocess data\n",
    "def preprocess_data(df):\n",
    "    return df[['tweet_text', 'label']].rename(columns={'tweet_text': 'text'})\n",
    "\n",
    "train_data = preprocess_data(train_data)\n",
    "dev_data = preprocess_data(dev_data)\n",
    "\n",
    "# Map labels to integers\n",
    "label_mapping = {'informative': 1, 'not_informative': 0}\n",
    "train_data['label'] = train_data['label'].map(label_mapping)\n",
    "dev_data['label'] = dev_data['label'].map(label_mapping)\n",
    "\n",
    "# Convert to Hugging Face Dataset\n",
    "train_dataset = Dataset.from_pandas(train_data)\n",
    "dev_dataset = Dataset.from_pandas(dev_data)\n",
    "\n",
    "# Load tokenizer and tokenize data\n",
    "tokenizer = BertTokenizer.from_pretrained('bert-base-uncased')\n",
    "\n",
    "def tokenize_function(examples):\n",
    "    return tokenizer(examples['text'], truncation=True, padding=True, max_length=128)\n",
    "\n",
    "train_dataset = train_dataset.map(tokenize_function, batched=True)\n",
    "dev_dataset = dev_dataset.map(tokenize_function, batched=True)\n",
    "\n",
    "# Data collator for padding\n",
    "data_collator = DataCollatorWithPadding(tokenizer=tokenizer)\n",
    "\n",
    "# Load model\n",
    "model = BertForSequenceClassification.from_pretrained('bert-base-uncased', num_labels=2)\n",
    "\n",
    "# Training arguments\n",
    "training_args = TrainingArguments(\n",
    "    output_dir='./results',\n",
    "    evaluation_strategy='epoch',\n",
    "    save_strategy='epoch',\n",
    "    logging_dir='./logs',\n",
    "    learning_rate=2e-5,\n",
    "    per_device_train_batch_size=16,\n",
    "    per_device_eval_batch_size=16,\n",
    "    num_train_epochs=5,\n",
    "    weight_decay=0.01,\n",
    "    load_best_model_at_end=True,\n",
    "    metric_for_best_model='accuracy'\n",
    ")\n",
    "\n",
    "# Metrics\n",
    "def compute_metrics(eval_pred):\n",
    "    logits, labels = eval_pred\n",
    "    predictions = logits.argmax(axis=-1)\n",
    "    acc = accuracy_score(labels, predictions)\n",
    "    return {'accuracy': acc}\n",
    "\n",
    "# Trainer\n",
    "trainer = Trainer(\n",
    "    model=model,\n",
    "    args=training_args,\n",
    "    train_dataset=train_dataset,\n",
    "    eval_dataset=dev_dataset,\n",
    "    tokenizer=tokenizer,\n",
    "    data_collator=data_collator,\n",
    "    compute_metrics=compute_metrics,\n",
    ")\n",
    "\n",
    "# Train the model\n",
    "trainer.train()\n",
    "\n",
    "# Evaluate the model\n",
    "results = trainer.evaluate()\n",
    "\n",
    "# Extract unique epochs, training accuracy, and validation accuracies\n",
    "history = trainer.state.log_history\n",
    "\n",
    "# Filter history for epochs with training and evaluation metrics\n",
    "filtered_history = [entry for entry in history if 'epoch' in entry]\n",
    "epochs = sorted(set(entry['epoch'] for entry in filtered_history))\n",
    "\n",
    "# Extract training and validation accuracies\n",
    "train_acc = [entry['accuracy'] for entry in filtered_history if 'accuracy' in entry]\n",
    "val_acc = [entry['eval_accuracy'] for entry in filtered_history if 'eval_accuracy' in entry]\n",
    "\n",
    "# Plot training and validation accuracy\n",
    "plt.figure(figsize=(10, 5))\n",
    "plt.plot(epochs[:len(train_acc)], train_acc, marker='o', label=\"Training Accuracy\")\n",
    "plt.plot(epochs[:len(val_acc)], val_acc, marker='o', label=\"Validation Accuracy\", linestyle='--')\n",
    "plt.xlabel(\"Epochs\")\n",
    "plt.ylabel(\"Accuracy\")\n",
    "plt.title(\"Training and Validation Accuracy Across Epochs\")\n",
    "plt.legend()\n",
    "plt.grid(True)\n",
    "plt.show()\n",
    "\n",
    "# Confusion Matrix for validation set\n",
    "predictions, labels, _ = trainer.predict(dev_dataset)\n",
    "predictions = predictions.argmax(axis=1)\n",
    "\n",
    "conf_matrix = confusion_matrix(labels, predictions)\n",
    "\n",
    "# Plot confusion matrix\n",
    "plt.figure(figsize=(8, 6))\n",
    "sns.heatmap(conf_matrix, annot=True, fmt='d', cmap='Blues', xticklabels=label_mapping.keys(), yticklabels=label_mapping.keys())\n",
    "plt.xlabel(\"Predicted Labels\")\n",
    "plt.ylabel(\"True Labels\")\n",
    "plt.title(\"Confusion Matrix for Validation Set\")\n",
    "plt.show()\n",
    "\n",
    "# Classification Report after the last epoch\n",
    "print(\"Classification Report:\")\n",
    "print(classification_report(labels, predictions, target_names=label_mapping.keys()))\n"
   ]
  },
  {
   "cell_type": "code",
   "execution_count": 13,
   "metadata": {},
   "outputs": [
    {
     "name": "stderr",
     "output_type": "stream",
     "text": [
      "Map: 100%|██████████| 2237/2237 [00:00<00:00, 3570.68 examples/s]\n",
      "100%|██████████| 140/140 [00:06<00:00, 21.27it/s]"
     ]
    },
    {
     "name": "stdout",
     "output_type": "stream",
     "text": [
      "Testing Accuracy: 0.7492\n"
     ]
    },
    {
     "name": "stderr",
     "output_type": "stream",
     "text": [
      "\n"
     ]
    },
    {
     "data": {
      "image/png": "[encoded data removed]",
      "text/plain": [
       "<Figure size 800x600 with 2 Axes>"
      ]
     },
     "metadata": {},
     "output_type": "display_data"
    },
    {
     "name": "stdout",
     "output_type": "stream",
     "text": [
      "Classification Report for Test Set:\n",
      "                 precision    recall  f1-score   support\n",
      "\n",
      "    informative       0.71      0.60      0.65       864\n",
      "not_informative       0.77      0.84      0.81      1373\n",
      "\n",
      "       accuracy                           0.75      2237\n",
      "      macro avg       0.74      0.72      0.73      2237\n",
      "   weighted avg       0.75      0.75      0.74      2237\n",
      "\n"
     ]
    }
   ],
   "source": [
    "# Load the test data\n",
    "test_file_path = 'crisismmd_datasplit_all/crisismmd_datasplit_all/task_informative_text_img_test.tsv'\n",
    "test_data = pd.read_csv(test_file_path, sep='\\t')\n",
    "\n",
    "# Preprocess the test data\n",
    "test_data = preprocess_data(test_data)\n",
    "test_data['label'] = test_data['label'].map(label_mapping)\n",
    "\n",
    "# Convert to Hugging Face Dataset\n",
    "test_dataset = Dataset.from_pandas(test_data)\n",
    "\n",
    "# Tokenize test data\n",
    "test_dataset = test_dataset.map(tokenize_function, batched=True)\n",
    "\n",
    "# Evaluate on the test set\n",
    "test_results = trainer.predict(test_dataset)\n",
    "test_predictions = test_results.predictions.argmax(axis=-1)\n",
    "test_labels = test_results.label_ids\n",
    "\n",
    "# Compute test accuracy\n",
    "test_accuracy = accuracy_score(test_labels, test_predictions)\n",
    "print(f\"Testing Accuracy: {test_accuracy:.4f}\")\n",
    "\n",
    "# Confusion Matrix for the test set\n",
    "conf_matrix_test = confusion_matrix(test_labels, test_predictions)\n",
    "\n",
    "# Plot confusion matrix\n",
    "plt.figure(figsize=(8, 6))\n",
    "sns.heatmap(conf_matrix_test, annot=True, fmt='d', cmap='Blues', xticklabels=label_mapping.keys(), yticklabels=label_mapping.keys())\n",
    "plt.xlabel(\"Predicted Labels\")\n",
    "plt.ylabel(\"True Labels\")\n",
    "plt.title(\"Confusion Matrix for Test Set\")\n",
    "plt.show()\n",
    "\n",
    "# Classification Report for the test set\n",
    "print(\"Classification Report for Test Set:\")\n",
    "print(classification_report(test_labels, test_predictions, target_names=label_mapping.keys()))\n"
   ]
  }
 ],
 "metadata": {
  "kernelspec": {
   "display_name": "Python 3",
   "language": "python",
   "name": "python3"
  },
  "language_info": {
   "codemirror_mode": {
    "name": "ipython",
    "version": 3
   },
   "file_extension": ".py",
   "mimetype": "text/x-python",
   "name": "python",
   "nbconvert_exporter": "python",
   "pygments_lexer": "ipython3",
   "version": "3.12.5"
  }
 },
 "nbformat": 4,
 "nbformat_minor": 2
}
